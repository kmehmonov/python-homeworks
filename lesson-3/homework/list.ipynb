{
 "cells": [
  {
   "cell_type": "markdown",
   "metadata": {},
   "source": [
    "### List"
   ]
  },
  {
   "cell_type": "code",
   "execution_count": 44,
   "metadata": {},
   "outputs": [
    {
     "name": "stdout",
     "output_type": "stream",
     "text": [
      "3\n"
     ]
    }
   ],
   "source": [
    "#1\n",
    "numbers = [1, 2, 3, 4, 5, 6, 1, 2, 3, 4, 5, 3, 4, 5, 6, 1, 2, 3, 4, 5]\n",
    "print(numbers.count(1))"
   ]
  },
  {
   "cell_type": "code",
   "execution_count": 45,
   "metadata": {},
   "outputs": [
    {
     "data": {
      "text/plain": [
       "69"
      ]
     },
     "execution_count": 45,
     "metadata": {},
     "output_type": "execute_result"
    }
   ],
   "source": [
    "#2 \n",
    "sum(numbers)"
   ]
  },
  {
   "cell_type": "code",
   "execution_count": 46,
   "metadata": {},
   "outputs": [
    {
     "data": {
      "text/plain": [
       "6"
      ]
     },
     "execution_count": 46,
     "metadata": {},
     "output_type": "execute_result"
    }
   ],
   "source": [
    "#3\n",
    "max(numbers)"
   ]
  },
  {
   "cell_type": "code",
   "execution_count": 47,
   "metadata": {},
   "outputs": [
    {
     "data": {
      "text/plain": [
       "1"
      ]
     },
     "execution_count": 47,
     "metadata": {},
     "output_type": "execute_result"
    }
   ],
   "source": [
    "#4\n",
    "min(numbers)"
   ]
  },
  {
   "cell_type": "code",
   "execution_count": 48,
   "metadata": {},
   "outputs": [
    {
     "data": {
      "text/plain": [
       "True"
      ]
     },
     "execution_count": 48,
     "metadata": {},
     "output_type": "execute_result"
    }
   ],
   "source": [
    "#5\n",
    "1 in numbers"
   ]
  },
  {
   "cell_type": "code",
   "execution_count": 49,
   "metadata": {},
   "outputs": [
    {
     "name": "stdout",
     "output_type": "stream",
     "text": [
      "None\n",
      "1\n"
     ]
    }
   ],
   "source": [
    "#6\n",
    "check1 = []\n",
    "check2 = [1, 2, 3]\n",
    "print(check1[0] if check1 else None)\n",
    "print(check2[0] if check2 else None)"
   ]
  },
  {
   "cell_type": "code",
   "execution_count": 50,
   "metadata": {},
   "outputs": [
    {
     "name": "stdout",
     "output_type": "stream",
     "text": [
      "None\n",
      "3\n"
     ]
    }
   ],
   "source": [
    "#7\n",
    "check1 = []\n",
    "check2 = [1, 2, 3]\n",
    "print(check1[-1] if check1 else None)\n",
    "print(check2[-1] if check2 else None)"
   ]
  },
  {
   "cell_type": "code",
   "execution_count": 51,
   "metadata": {},
   "outputs": [
    {
     "data": {
      "text/plain": [
       "[1, 2, 3]"
      ]
     },
     "execution_count": 51,
     "metadata": {},
     "output_type": "execute_result"
    }
   ],
   "source": [
    "#8\n",
    "numbers = [1, 2, 3, 4, 5, 6, 1, 2, 3, 4, 5, 3, 4, 5, 6, 1, 2, 3, 4, 5]\n",
    "numbers2 = numbers[:3]\n",
    "numbers2"
   ]
  },
  {
   "cell_type": "code",
   "execution_count": 52,
   "metadata": {},
   "outputs": [
    {
     "data": {
      "text/plain": [
       "[5, 4, 3, 2, 1, 6, 5, 4, 3, 5, 4, 3, 2, 1, 6, 5, 4, 3, 2, 1]"
      ]
     },
     "execution_count": 52,
     "metadata": {},
     "output_type": "execute_result"
    }
   ],
   "source": [
    "#9 \n",
    "numbers = [1, 2, 3, 4, 5, 6, 1, 2, 3, 4, 5, 3, 4, 5, 6, 1, 2, 3, 4, 5]\n",
    "reverse_numbers = numbers[::-1]\n",
    "reverse_numbers"
   ]
  },
  {
   "cell_type": "code",
   "execution_count": 53,
   "metadata": {},
   "outputs": [
    {
     "data": {
      "text/plain": [
       "[1, 1, 1, 2, 2, 2, 3, 3, 3, 3, 4, 4, 4, 4, 5, 5, 5, 5, 6, 6]"
      ]
     },
     "execution_count": 53,
     "metadata": {},
     "output_type": "execute_result"
    }
   ],
   "source": [
    "#10\n",
    "sorted_numbers = numbers[:]\n",
    "sorted_numbers.sort()\n",
    "sorted_numbers\n"
   ]
  },
  {
   "cell_type": "code",
   "execution_count": 54,
   "metadata": {},
   "outputs": [
    {
     "data": {
      "text/plain": [
       "[1, 2, 3, 4, 5, 6]"
      ]
     },
     "execution_count": 54,
     "metadata": {},
     "output_type": "execute_result"
    }
   ],
   "source": [
    "#11\n",
    "numbers = [1, 2, 3, 4, 5, 6, 1, 2, 3, 4, 5, 3, 4, 5, 6, 1, 2, 3, 4, 5]\n",
    "unique_numbers = list(set(numbers))\n",
    "unique_numbers"
   ]
  },
  {
   "cell_type": "code",
   "execution_count": 55,
   "metadata": {},
   "outputs": [
    {
     "data": {
      "text/plain": [
       "[5, 1, 2, 3]"
      ]
     },
     "execution_count": 55,
     "metadata": {},
     "output_type": "execute_result"
    }
   ],
   "source": [
    "\n",
    "#12\n",
    "numbers = [1, 2, 3]\n",
    "numbers.insert(0,5)\n",
    "numbers"
   ]
  },
  {
   "cell_type": "code",
   "execution_count": 56,
   "metadata": {},
   "outputs": [
    {
     "data": {
      "text/plain": [
       "0"
      ]
     },
     "execution_count": 56,
     "metadata": {},
     "output_type": "execute_result"
    }
   ],
   "source": [
    "#13\n",
    "numbers = [1, 2, 3, 4, 5, 6, 1, 2, 3, 4, 5, 3, 4, 5, 6, 1, 2, 3, 4, 5]\n",
    "numbers.index(1)"
   ]
  },
  {
   "cell_type": "code",
   "execution_count": 57,
   "metadata": {},
   "outputs": [
    {
     "data": {
      "text/plain": [
       "False"
      ]
     },
     "execution_count": 57,
     "metadata": {},
     "output_type": "execute_result"
    }
   ],
   "source": [
    "#14\n",
    "a = []\n",
    "bool(a)"
   ]
  },
  {
   "cell_type": "code",
   "execution_count": 58,
   "metadata": {},
   "outputs": [
    {
     "name": "stdout",
     "output_type": "stream",
     "text": [
      "9\n",
      "9\n",
      "9\n"
     ]
    }
   ],
   "source": [
    "#15\n",
    "#1-usul\n",
    "numbers = [1, 2, 3, 4, 5, 6, 1, 2, 3, 4, 5, 3, 4, 5, 6, 1, 2, 3, 4, 5]\n",
    "number_of_evens = sum(1 for i in numbers if i%2==0)\n",
    "print(number_of_evens)\n",
    "\n",
    "# 2-usul\n",
    "number_of_evens = len(list(filter(lambda x: x%2==0, numbers)))\n",
    "print(number_of_evens)\n",
    "\n",
    "# 3-usul\n",
    "\n",
    "even_numbers = [number for number in numbers if number%2==0]\n",
    "print(len(even_numbers))\n"
   ]
  },
  {
   "cell_type": "code",
   "execution_count": 59,
   "metadata": {},
   "outputs": [
    {
     "data": {
      "text/plain": [
       "11"
      ]
     },
     "execution_count": 59,
     "metadata": {},
     "output_type": "execute_result"
    }
   ],
   "source": [
    "#16\n",
    "numbers = [1, 2, 3, 4, 5, 6, 1, 2, 3, 4, 5, 3, 4, 5, 6, 1, 2, 3, 4, 5]\n",
    "number_of_odds = sum(1 for i in numbers if i%2==1)\n",
    "number_of_odds"
   ]
  },
  {
   "cell_type": "code",
   "execution_count": 60,
   "metadata": {},
   "outputs": [
    {
     "name": "stdout",
     "output_type": "stream",
     "text": [
      "[1, 2, 3, 4, 5, 6]\n",
      "[1, 2, 3, 4, 5, 6]\n"
     ]
    }
   ],
   "source": [
    "#17\n",
    "\n",
    "# 1-usul\n",
    "list1 = [1, 2, 3]\n",
    "list2 = [4, 5, 6]\n",
    "list3 = list1 + list2\n",
    "print(list3)\n",
    "\n",
    "\n",
    "# 2-usul\n",
    "\n",
    "list3 = [*list1, *list2]\n",
    "print(list3)"
   ]
  },
  {
   "cell_type": "code",
   "execution_count": 61,
   "metadata": {},
   "outputs": [
    {
     "data": {
      "text/plain": [
       "True"
      ]
     },
     "execution_count": 61,
     "metadata": {},
     "output_type": "execute_result"
    }
   ],
   "source": [
    "#18\n",
    "\n",
    "\n",
    "sublist = [1, 2, 3]\n",
    "superlist = [1, 2, 3, 4, 5]\n",
    "set(sublist) <= set(superlist)\n"
   ]
  },
  {
   "cell_type": "code",
   "execution_count": 62,
   "metadata": {},
   "outputs": [
    {
     "data": {
      "text/plain": [
       "[5, 'newValue', 8, 3, 5, 6, 8, 9]"
      ]
     },
     "execution_count": 62,
     "metadata": {},
     "output_type": "execute_result"
    }
   ],
   "source": [
    "#19\n",
    "number = [5, 6, 8, 3, 5, 6, 8, 9]\n",
    "\n",
    "number[number.index(6)] = \"newValue\"\n",
    "\n",
    "number"
   ]
  },
  {
   "cell_type": "code",
   "execution_count": 63,
   "metadata": {},
   "outputs": [
    {
     "data": {
      "text/plain": [
       "8"
      ]
     },
     "execution_count": 63,
     "metadata": {},
     "output_type": "execute_result"
    }
   ],
   "source": [
    "#20\n",
    "number = [5, 6, 8, 3, 5, 6, 8, 9]\n",
    "number.sort()\n",
    "number[-2]"
   ]
  },
  {
   "cell_type": "code",
   "execution_count": 64,
   "metadata": {},
   "outputs": [
    {
     "data": {
      "text/plain": [
       "5"
      ]
     },
     "execution_count": 64,
     "metadata": {},
     "output_type": "execute_result"
    }
   ],
   "source": [
    "#21\n",
    "number = [5, 6, 8, 3, 5, 6, 8, 9]\n",
    "number.sort()\n",
    "number[2]"
   ]
  },
  {
   "cell_type": "code",
   "execution_count": 65,
   "metadata": {},
   "outputs": [
    {
     "data": {
      "text/plain": [
       "[6, 8, 6, 8]"
      ]
     },
     "execution_count": 65,
     "metadata": {},
     "output_type": "execute_result"
    }
   ],
   "source": [
    "# 22\n",
    "number = [5, 6, 8, 3, 5, 6, 8, 9]\n",
    "even_numbers = list(filter(lambda x: x % 2 == 0, number))\n",
    "even_numbers"
   ]
  },
  {
   "cell_type": "code",
   "execution_count": 66,
   "metadata": {},
   "outputs": [
    {
     "data": {
      "text/plain": [
       "[5, 3, 5, 9]"
      ]
     },
     "execution_count": 66,
     "metadata": {},
     "output_type": "execute_result"
    }
   ],
   "source": [
    "# 23\n",
    "number = [5, 6, 8, 3, 5, 6, 8, 9]\n",
    "odd_numbers = list(filter(lambda x: x % 2 == 1, number))\n",
    "odd_numbers"
   ]
  },
  {
   "cell_type": "code",
   "execution_count": 67,
   "metadata": {},
   "outputs": [
    {
     "name": "stdout",
     "output_type": "stream",
     "text": [
      "8\n"
     ]
    }
   ],
   "source": [
    "# 24\n",
    "number = [5, 6, 8, 3, 5, 6, 8, 9]\n",
    "print(len(number))"
   ]
  },
  {
   "cell_type": "code",
   "execution_count": 68,
   "metadata": {},
   "outputs": [],
   "source": [
    "# 25\n",
    "number = [5, 6, 8, 3, 5, 6, 8, 9]\n",
    "copy_number = number.copy()"
   ]
  },
  {
   "cell_type": "code",
   "execution_count": 69,
   "metadata": {},
   "outputs": [
    {
     "name": "stdout",
     "output_type": "stream",
     "text": [
      "[3, 5]\n"
     ]
    }
   ],
   "source": [
    "# 26\n",
    "number = [5, 6, 8, 3, 5, 6, 8, 9]\n",
    "middIndex = len(number)//2\n",
    "\n",
    "if len(number) % 2 == 0:\n",
    "    print([number[middIndex-1], number[middIndex]])\n",
    "else:\n",
    "    print(number[middIndex])"
   ]
  },
  {
   "cell_type": "code",
   "execution_count": 70,
   "metadata": {},
   "outputs": [
    {
     "name": "stdout",
     "output_type": "stream",
     "text": [
      "8\n"
     ]
    }
   ],
   "source": [
    "# 27\n",
    "\n",
    "number = [5, 6, 8, 3, 5, 6, 8, 9]\n",
    "startIndex = 1\n",
    "endIndex = 5\n",
    "step = 1\n",
    "sublist = number[startIndex:endIndex:step]\n",
    "print(max(sublist))\n"
   ]
  },
  {
   "cell_type": "code",
   "execution_count": 71,
   "metadata": {},
   "outputs": [
    {
     "name": "stdout",
     "output_type": "stream",
     "text": [
      "3\n"
     ]
    }
   ],
   "source": [
    "# 28\n",
    "\n",
    "number = [5, 6, 8, 3, 5, 6, 8, 9]\n",
    "startIndex = 1\n",
    "endIndex = 5\n",
    "step = 1\n",
    "sublist = number[startIndex:endIndex:step]\n",
    "print(min(sublist))"
   ]
  },
  {
   "cell_type": "code",
   "execution_count": 72,
   "metadata": {},
   "outputs": [
    {
     "data": {
      "text/plain": [
       "[6, 8, 3, 5, 6, 8, 9]"
      ]
     },
     "execution_count": 72,
     "metadata": {},
     "output_type": "execute_result"
    }
   ],
   "source": [
    "# 29\n",
    "number = [5, 6, 8, 3, 5, 6, 8, 9]\n",
    "number.pop(0)\n",
    "number"
   ]
  },
  {
   "cell_type": "code",
   "execution_count": 73,
   "metadata": {},
   "outputs": [
    {
     "name": "stdout",
     "output_type": "stream",
     "text": [
      "True\n",
      "False\n"
     ]
    },
    {
     "data": {
      "text/plain": [
       "True"
      ]
     },
     "execution_count": 73,
     "metadata": {},
     "output_type": "execute_result"
    }
   ],
   "source": [
    "# 30\n",
    "list1 = [1, 2, 3, 4, 5, 6]\n",
    "list2 = [5, 6, 1, 9, 3, 8]\n",
    "\n",
    "sortedList = sorted(list1.copy())\n",
    "print(sortedList == list1)\n",
    "\n",
    "sortedList2 = sorted(list2.copy())\n",
    "print(sortedList2 == list2)\n",
    "\n",
    "\n",
    "# 2-usul time O(n), space(1)\n",
    "\n",
    "all(list1[i] <= list1[i + 1] for i in range(len(list1) - 1))"
   ]
  },
  {
   "cell_type": "code",
   "execution_count": 74,
   "metadata": {},
   "outputs": [
    {
     "data": {
      "text/plain": [
       "[1, 1, 1, 1, 2, 2, 2, 2, 3, 3, 3, 3]"
      ]
     },
     "execution_count": 74,
     "metadata": {},
     "output_type": "execute_result"
    }
   ],
   "source": [
    "# 31\n",
    "numbers = [1, 2, 3]\n",
    "number = 4\n",
    "newlist = [element for element in numbers for _ in range(number)]\n",
    "newlist"
   ]
  },
  {
   "cell_type": "code",
   "execution_count": 75,
   "metadata": {},
   "outputs": [
    {
     "data": {
      "text/plain": [
       "[1, 1, 2, 2, 3, 3, 4]"
      ]
     },
     "execution_count": 75,
     "metadata": {},
     "output_type": "execute_result"
    }
   ],
   "source": [
    "#32 \n",
    "numbers1 = [1, 2, 3]\n",
    "numbers2 = [1, 2, 3, 4]\n",
    "newlist = numbers1+numbers2\n",
    "newlist.sort()\n",
    "newlist\n",
    "\n",
    "# 2-usul\n",
    "\n",
    "numbers1 = [1, 2, 3]\n",
    "numbers2 = [1, 2, 3, 4]\n",
    "newlist = numbers1.copy()\n",
    "newlist.extend(numbers2)\n",
    "newlist.sort()\n",
    "newlist"
   ]
  },
  {
   "cell_type": "code",
   "execution_count": 76,
   "metadata": {},
   "outputs": [
    {
     "data": {
      "text/plain": [
       "[0, 4]"
      ]
     },
     "execution_count": 76,
     "metadata": {},
     "output_type": "execute_result"
    }
   ],
   "source": [
    "# 33\n",
    "number = [5, 6, 8, 3, 5, 6, 8, 9]\n",
    "element = 5\n",
    "indeces = [i for i in range(len(number)) if number[i] == 5]\n",
    "indeces"
   ]
  },
  {
   "cell_type": "code",
   "execution_count": 77,
   "metadata": {},
   "outputs": [
    {
     "data": {
      "text/plain": [
       "[8, 9, 1, 2, 3, 4, 5, 6, 7]"
      ]
     },
     "execution_count": 77,
     "metadata": {},
     "output_type": "execute_result"
    }
   ],
   "source": [
    "# 34\n",
    "\n",
    "numbers = [1, 2, 3, 4, 5, 6, 7, 8, 9]\n",
    "step = 2\n",
    "numbers =  numbers[-step:]+ numbers[:-step]\n",
    "numbers"
   ]
  },
  {
   "cell_type": "code",
   "execution_count": 78,
   "metadata": {},
   "outputs": [
    {
     "name": "stdout",
     "output_type": "stream",
     "text": [
      "[1, 2, 3, 4, 5, 6, 7, 8, 9, 10]\n"
     ]
    }
   ],
   "source": [
    "# 35\n",
    "n=10\n",
    "print(list(range(1, n+1)))\n"
   ]
  },
  {
   "cell_type": "code",
   "execution_count": 79,
   "metadata": {},
   "outputs": [
    {
     "data": {
      "text/plain": [
       "27"
      ]
     },
     "execution_count": 79,
     "metadata": {},
     "output_type": "execute_result"
    }
   ],
   "source": [
    "# 36\n",
    "numbers = [1, 2, -3, 4, 5, -6, 7, 8, -9]\n",
    "sumPositive = sum(i for i in numbers if i>0)\n",
    "sumPositive"
   ]
  },
  {
   "cell_type": "code",
   "execution_count": 80,
   "metadata": {},
   "outputs": [
    {
     "data": {
      "text/plain": [
       "-18"
      ]
     },
     "execution_count": 80,
     "metadata": {},
     "output_type": "execute_result"
    }
   ],
   "source": [
    "# 37\n",
    "numbers = [1, 2, -3, 4, 5, -6, 7, 8, -9]\n",
    "sumNegative = sum(i for i in numbers if i<0)\n",
    "sumNegative"
   ]
  },
  {
   "cell_type": "code",
   "execution_count": 81,
   "metadata": {},
   "outputs": [
    {
     "data": {
      "text/plain": [
       "True"
      ]
     },
     "execution_count": 81,
     "metadata": {},
     "output_type": "execute_result"
    }
   ],
   "source": [
    "# 38\n",
    "numbers = [1, 2, 3, 4, 5, 4, 3, 2, 1]\n",
    "numbers == numbers[::-1]\n"
   ]
  },
  {
   "cell_type": "code",
   "execution_count": 82,
   "metadata": {},
   "outputs": [
    {
     "data": {
      "text/plain": [
       "[[1, 2, 3], [4, 5, 6], [7, 8, 9]]"
      ]
     },
     "execution_count": 82,
     "metadata": {},
     "output_type": "execute_result"
    }
   ],
   "source": [
    "# 39 \n",
    "original_list = [1, 2, 3, 4, 5, 6, 7, 8, 9]\n",
    "sublist_size = 3\n",
    "\n",
    "nested_list = [original_list[i: i+sublist_size] for i in range(0, len(original_list), sublist_size)]\n",
    "nested_list\n",
    "\n",
    "\n"
   ]
  },
  {
   "cell_type": "code",
   "execution_count": 83,
   "metadata": {},
   "outputs": [
    {
     "name": "stdout",
     "output_type": "stream",
     "text": [
      "[1, 2, 3, 4, 5, 6, 7, 8]\n",
      "[1, 2, 3, 4, 5, 6, 7, 8]\n"
     ]
    }
   ],
   "source": [
    "# 40\n",
    "\n",
    "numbers = [1, 2, 2, 3, 4, 3, 5, 4, 6, 7, 6, 8]\n",
    "unique_numbers = []\n",
    "for number in numbers:\n",
    "    if number not in unique_numbers:\n",
    "        unique_numbers.append(number)\n",
    "print(unique_numbers)\n",
    "\n",
    "# 2-usul\n",
    "unique_numbers = list(dict.fromkeys(numbers))\n",
    "print(unique_numbers)\n",
    "\n"
   ]
  }
 ],
 "metadata": {
  "kernelspec": {
   "display_name": "venv",
   "language": "python",
   "name": "python3"
  },
  "language_info": {
   "codemirror_mode": {
    "name": "ipython",
    "version": 3
   },
   "file_extension": ".py",
   "mimetype": "text/x-python",
   "name": "python",
   "nbconvert_exporter": "python",
   "pygments_lexer": "ipython3",
   "version": "3.12.1"
  }
 },
 "nbformat": 4,
 "nbformat_minor": 2
}
