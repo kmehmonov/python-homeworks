{
 "cells": [
  {
   "cell_type": "code",
   "execution_count": null,
   "metadata": {},
   "outputs": [
    {
     "name": "stdout",
     "output_type": "stream",
     "text": [
      "Note: you may need to restart the kernel to use updated packages.Requirement already satisfied: requests in d:\\hobby\\maab_academy\\python-homeworks\\venv\\lib\\site-packages (2.32.3)\n",
      "Requirement already satisfied: charset-normalizer<4,>=2 in d:\\hobby\\maab_academy\\python-homeworks\\venv\\lib\\site-packages (from requests) (3.4.0)\n",
      "Requirement already satisfied: idna<4,>=2.5 in d:\\hobby\\maab_academy\\python-homeworks\\venv\\lib\\site-packages (from requests) (3.10)\n",
      "Requirement already satisfied: urllib3<3,>=1.21.1 in d:\\hobby\\maab_academy\\python-homeworks\\venv\\lib\\site-packages (from requests) (2.3.0)\n",
      "Requirement already satisfied: certifi>=2017.4.17 in d:\\hobby\\maab_academy\\python-homeworks\\venv\\lib\\site-packages (from requests) (2024.12.14)\n",
      "\n"
     ]
    },
    {
     "name": "stderr",
     "output_type": "stream",
     "text": [
      "\n",
      "[notice] A new release of pip is available: 23.2.1 -> 24.3.1\n",
      "[notice] To update, run: python.exe -m pip install --upgrade pip\n"
     ]
    }
   ],
   "source": [
    "# %pip install requests"
   ]
  },
  {
   "cell_type": "code",
   "execution_count": 32,
   "metadata": {},
   "outputs": [],
   "source": [
    "import requests\n",
    "\n",
    "from apikeys import weather_api\n",
    "\n",
    "my_api = weather_api\n",
    "weather_url = \"https://api.openweathermap.org/data/3.0/onecall?lat={lat}&lon={lon}&exclude={exc}&appid={api_id}\"\n",
    "coordinate_url = \"http://api.openweathermap.org/geo/1.0/direct?q={city_name},{state_code},{country_code}&limit={limit}&appid={api_id}\""
   ]
  },
  {
   "cell_type": "code",
   "execution_count": 68,
   "metadata": {},
   "outputs": [],
   "source": [
    "def get_coordinates(city_name: str, country_code: str=''):\n",
    "    \"\"\"\n",
    "    Get lat and lon from city name\n",
    "    Args:\n",
    "        city_name: str\n",
    "        country_code: str\n",
    "             use only ISO 3166 country codes\n",
    "    return:\n",
    "        dict[\"name\", \"local_names\", \"lat\", \"lon\", \"country\", \"state\"]\n",
    "        visit: https://openweathermap.org/api/geocoding-api\n",
    "    \"\"\"\n",
    "    url = coordinate_url.format(city_name=city_name, state_code='', country_code='', limit='', api_id = my_api)\n",
    "    res = requests.get(url)\n",
    "    return res.json()[0]\n",
    "\n",
    "\n"
   ]
  },
  {
   "cell_type": "code",
   "execution_count": 76,
   "metadata": {},
   "outputs": [
    {
     "name": "stdout",
     "output_type": "stream",
     "text": [
      "if\n",
      "https://api.openweathermap.org/data/3.0/onecall?lat=41.3123363&lon=69.2787079&exclude=minutely,hourly,daily,alerts&appid=5615d7705ddc0f9b1705ee1a789be104\n"
     ]
    },
    {
     "data": {
      "text/plain": [
       "{'lat': 41.3123,\n",
       " 'lon': 69.2787,\n",
       " 'timezone': 'Asia/Tashkent',\n",
       " 'timezone_offset': 18000,\n",
       " 'current': {'dt': 1736585118,\n",
       "  'sunrise': 1736563669,\n",
       "  'sunset': 1736597596,\n",
       "  'temp': 281.95,\n",
       "  'feels_like': 280.17,\n",
       "  'pressure': 1028,\n",
       "  'humidity': 23,\n",
       "  'dew_point': 263.18,\n",
       "  'uvi': 1.1,\n",
       "  'clouds': 0,\n",
       "  'visibility': 10000,\n",
       "  'wind_speed': 3.09,\n",
       "  'wind_deg': 360,\n",
       "  'weather': [{'id': 800,\n",
       "    'main': 'Clear',\n",
       "    'description': 'clear sky',\n",
       "    'icon': '01d'}]}}"
      ]
     },
     "execution_count": 76,
     "metadata": {},
     "output_type": "execute_result"
    }
   ],
   "source": [
    "def get_current_weather(city_name: str, stat='current') -> None:\n",
    "    \"\"\" get current weather\n",
    "    Args:\n",
    "        city_name: str\n",
    "        stat: str\n",
    "            what kind of stat do you want? current|minutly|hourly|daily\n",
    "    return:\n",
    "        visit: https://openweathermap.org/api/one-call-3#example\n",
    "\n",
    "    \"\"\"\n",
    "    exclude = {\n",
    "        \"current\" : True,\n",
    "        \"minutely\" : True,\n",
    "        \"hourly\" : True,\n",
    "        \"daily\" : True,\n",
    "        \"alerts\" : True\n",
    "        }\n",
    "    if stat:\n",
    "       print(\"if\")\n",
    "       exclude[stat.lower()] = False\n",
    "    exclude_str = \",\".join(item for item in exclude.keys() if exclude[item])\n",
    "\n",
    "    # get lat and lon\n",
    "    geo_data: dict = get_coordinates(city_name)\n",
    "    url = weather_url.format(lat=geo_data[\"lat\"], lon=geo_data[\"lon\"], exc=exclude_str, api_id = my_api)\n",
    "    print(url)\n",
    "    return requests.get(url).json()\n",
    "\n"
   ]
  }
 ],
 "metadata": {
  "kernelspec": {
   "display_name": "venv",
   "language": "python",
   "name": "python3"
  },
  "language_info": {
   "codemirror_mode": {
    "name": "ipython",
    "version": 3
   },
   "file_extension": ".py",
   "mimetype": "text/x-python",
   "name": "python",
   "nbconvert_exporter": "python",
   "pygments_lexer": "ipython3",
   "version": "3.12.8"
  }
 },
 "nbformat": 4,
 "nbformat_minor": 2
}
