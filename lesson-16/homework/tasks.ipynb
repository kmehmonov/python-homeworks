{
 "cells": [
  {
   "cell_type": "code",
   "execution_count": 64,
   "metadata": {},
   "outputs": [],
   "source": [
    "import numpy as np"
   ]
  },
  {
   "cell_type": "code",
   "execution_count": 65,
   "metadata": {},
   "outputs": [
    {
     "name": "stdout",
     "output_type": "stream",
     "text": [
      "Temperatures in Celsius: [  0.          20.          37.77777778 100.          25.        ]\n"
     ]
    }
   ],
   "source": [
    "# Task 1. Write a Python function that converts a temperature from Fahrenheit to Celsius. Use numpy.vectorize\n",
    "#  to apply this function to an array of temperatures: [32, 68, 100, 212, 77].\n",
    "\n",
    "# Custom error handling for non-numeric inputs\n",
    "def validate_input(temps):\n",
    "    # Check if the input is a list or numpy array\n",
    "    if not isinstance(temps, (list, np.ndarray)):\n",
    "        raise TypeError(\"Input should be a list or numpy array.\")\n",
    "    \n",
    "    # Check if the list is empty\n",
    "    if len(temps) == 0:\n",
    "        raise ValueError(\"Input list cannot be empty.\")\n",
    "    \n",
    "    # Check if all elements in the list are numeric\n",
    "    for temp in temps:\n",
    "        if not isinstance(temp, (int, float)):\n",
    "            raise ValueError(f\"Invalid value '{temp}' in the list. All elements must be numeric.\")\n",
    "    \n",
    "    return temps\n",
    "\n",
    "# Convert Fahrenheit to Celsius\n",
    "@np.vectorize\n",
    "def convert_temperature(temp: float) -> float:\n",
    "    return (temp - 32) * 5 / 9  # Convert Fahrenheit to Celsius\n",
    "\n",
    "# Temperatures in Fahrenheit\n",
    "temps = [32, 68, 100, 212, 77]\n",
    "\n",
    "try:\n",
    "    # Validate the input\n",
    "    validated_temps = validate_input(temps)\n",
    "    \n",
    "    # Apply the temperature conversion function\n",
    "    celsius_temps = convert_temperature(validated_temps)\n",
    "    \n",
    "    print(\"Temperatures in Celsius:\", celsius_temps)\n",
    "\n",
    "except (TypeError, ValueError) as e:\n",
    "    print(f\"Error: {e}\")\n"
   ]
  },
  {
   "cell_type": "code",
   "execution_count": 66,
   "metadata": {},
   "outputs": [
    {
     "name": "stdout",
     "output_type": "stream",
     "text": [
      "Results: [  2   9  64 625]\n"
     ]
    }
   ],
   "source": [
    "# Task 2. Create a custom function that takes two arguments: a number and a power.\n",
    "# Use numpy.vectorize to calculate the power for each pair of numbers in two arrays: [2, 3, 4, 5] and [1, 2, 3, 4].\n",
    "\n",
    "# Custom error handling for non-numeric inputs\n",
    "def validate_input(base, power):\n",
    "    # Check if both inputs are lists or numpy arrays\n",
    "    if not isinstance(base, (list, np.ndarray)) or not isinstance(power, (list, np.ndarray)):\n",
    "        raise TypeError(\"Both inputs must be lists or numpy arrays.\")\n",
    "    \n",
    "    # Check if both arrays have the same length\n",
    "    if len(base) != len(power):\n",
    "        raise ValueError(\"The arrays must have the same length.\")\n",
    "    \n",
    "    # Check if all elements in both arrays are numeric\n",
    "    for b, p in zip(base, power):\n",
    "        if not isinstance(b, (int, float)) or not isinstance(p, (int, float)):\n",
    "            raise ValueError(f\"Invalid value '{b}' or '{p}' in the list. All elements must be numeric.\")\n",
    "    \n",
    "    return base, power\n",
    "\n",
    "# Custom function to calculate power\n",
    "@np.vectorize\n",
    "def elementvise_power(base, power):\n",
    "    return np.power(base, power)\n",
    "\n",
    "# Arrays of numbers and powers\n",
    "base_array = [2, 3, 4, 5]\n",
    "pow_array = [1, 2, 3, 4]\n",
    "\n",
    "try:\n",
    "    # Validate the inputs\n",
    "    validated_base, validated_power = validate_input(base_array, pow_array)\n",
    "    \n",
    "    # Apply the function element-wise\n",
    "    result = elementvise_power(validated_base, validated_power)\n",
    "    \n",
    "    print(\"Results:\", result)\n",
    "\n",
    "except (TypeError, ValueError) as e:\n",
    "    print(f\"Error: {e}\")\n",
    "\n",
    "\n",
    "\n"
   ]
  },
  {
   "cell_type": "code",
   "execution_count": 67,
   "metadata": {},
   "outputs": [
    {
     "name": "stdout",
     "output_type": "stream",
     "text": [
      "Solution using np.linalg.solve: [ 1.7027027   0.62162162 -0.48648649]\n",
      "Solution using np.dot(np.linalg.inv(A), B): [ 1.7027027   0.62162162 -0.48648649]\n"
     ]
    }
   ],
   "source": [
    "# Task 3. Solve the system of equations using numpy: [ 4x + 5y + 6z = 7 \\ 3x - y + z = 4 \\ 2x + y - 2z = 5 ]\n",
    "\n",
    "# Function to validate input and handle singular matrix check\n",
    "def validate_system_of_equations(A, B):\n",
    "    # Convert A and B to numpy arrays for easier manipulation\n",
    "    A = np.array(A)\n",
    "    B = np.array(B)\n",
    "\n",
    "    # Check if A is a square matrix and B has a matching number of rows\n",
    "    if A.shape[0] != A.shape[1]:\n",
    "        raise ValueError(\"Matrix A must be square.\")\n",
    "    \n",
    "    if A.shape[0] != B.shape[0]:\n",
    "        raise ValueError(\"Number of rows in matrix A must match the number of elements in vector B.\")\n",
    "    \n",
    "    # Check if the determinant of A is zero (singular matrix)\n",
    "    if np.linalg.det(A) == 0:\n",
    "        raise np.linalg.LinAlgError(\"Matrix A is singular, the system does not have a unique solution.\")\n",
    "    \n",
    "    return A, B\n",
    "\n",
    "# Coefficient matrix (A) and constants (B)\n",
    "A = [\n",
    "    [4, 5, 6],\n",
    "    [3, -1, 1],\n",
    "    [2, 1, -2]\n",
    "]\n",
    "\n",
    "B = [7, 4, 5]\n",
    "\n",
    "try:\n",
    "    # Validate the input matrices and check for singularity\n",
    "    A_valid, B_valid = validate_system_of_equations(A, B)\n",
    "    \n",
    "    # Method-1: Solve using np.linalg.solve (Preferred)\n",
    "    solution = np.linalg.solve(A_valid, B_valid)\n",
    "    print(\"Solution using np.linalg.solve:\", solution)\n",
    "\n",
    "    # Method-2: Solve using np.dot(np.linalg.inv(A), B) (Alternative)\n",
    "    solution_inv = np.dot(np.linalg.inv(A_valid), B_valid)\n",
    "    print(\"Solution using np.dot(np.linalg.inv(A), B):\", solution_inv)\n",
    "\n",
    "except (TypeError, ValueError, np.linalg.LinAlgError) as e:\n",
    "    print(f\"Error: {e}\")\n",
    "\n"
   ]
  },
  {
   "cell_type": "code",
   "execution_count": 68,
   "metadata": {},
   "outputs": [
    {
     "name": "stdout",
     "output_type": "stream",
     "text": [
      "Solution using np.linalg.solve: [ 0.48963731 -0.2253886   2.21761658]\n",
      "Solution using np.dot(np.linalg.inv(A), B): [ 0.48963731 -0.2253886   2.21761658]\n"
     ]
    }
   ],
   "source": [
    "# Task 4. Given the electrical circuit equations below, solve for ( I_1, I_2, I_3 ) (currents in the branches): \n",
    "# [ 10I_1 - 2I_2 + 3I_3 = 12\n",
    "#   -2I_1 + 8I_2 - I_3 = -5\n",
    "#    3I_1 - I_2 + 6I_3 = 15 ]\n",
    "\n",
    "# Function to validate the input matrices and check for singularity\n",
    "def validate_system_of_equations(A, B):\n",
    "    # Check if A is a 2D array and B is a 1D array\n",
    "    if not isinstance(A, (list, np.ndarray)) or not isinstance(B, (list, np.ndarray)):\n",
    "        raise TypeError(\"Both A and B must be lists or numpy arrays.\")\n",
    "    \n",
    "    # Convert A and B to numpy arrays for easier manipulation\n",
    "    A = np.array(A)\n",
    "    B = np.array(B)\n",
    "\n",
    "    # Check if A is a square matrix and B has a matching number of rows\n",
    "    if A.shape[0] != A.shape[1]:\n",
    "        raise ValueError(\"Matrix A must be square.\")\n",
    "    \n",
    "    if A.shape[0] != B.shape[0]:\n",
    "        raise ValueError(\"Number of rows in matrix A must match the number of elements in vector B.\")\n",
    "    \n",
    "    # Check if the determinant of A is zero (singular matrix)\n",
    "    if np.linalg.det(A) == 0:\n",
    "        raise np.linalg.LinAlgError(\"Matrix A is singular, the system does not have a unique solution.\")\n",
    "    \n",
    "    return A, B\n",
    "\n",
    "# Coefficient matrix (A) and constants (B)\n",
    "A = [\n",
    "    [10, -2, 3], \n",
    "    [-2, 8, -1],\n",
    "    [3, -1, 6]\n",
    "]\n",
    "\n",
    "B = [12, -5, 15]\n",
    "\n",
    "try:\n",
    "    # Validate the input matrices and check for singularity\n",
    "    A_valid, B_valid = validate_system_of_equations(A, B)\n",
    "    \n",
    "    # Method-1: Solve using np.linalg.solve (Preferred)\n",
    "    solution = np.linalg.solve(A_valid, B_valid)\n",
    "    print(\"Solution using np.linalg.solve:\", solution)\n",
    "\n",
    "    # Method-2: Solve using np.dot(np.linalg.inv(A), B) (Alternative)\n",
    "    solution_inv = np.dot(np.linalg.inv(A_valid), B_valid)\n",
    "    print(\"Solution using np.dot(np.linalg.inv(A), B):\", solution_inv)\n",
    "\n",
    "except (TypeError, ValueError, np.linalg.LinAlgError) as e:\n",
    "    print(f\"Error: {e}\")\n"
   ]
  },
  {
   "cell_type": "code",
   "execution_count": null,
   "metadata": {},
   "outputs": [],
   "source": []
  }
 ],
 "metadata": {
  "kernelspec": {
   "display_name": "venv",
   "language": "python",
   "name": "python3"
  },
  "language_info": {
   "codemirror_mode": {
    "name": "ipython",
    "version": 3
   },
   "file_extension": ".py",
   "mimetype": "text/x-python",
   "name": "python",
   "nbconvert_exporter": "python",
   "pygments_lexer": "ipython3",
   "version": "3.12.1"
  }
 },
 "nbformat": 4,
 "nbformat_minor": 2
}
