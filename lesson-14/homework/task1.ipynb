{
 "cells": [
  {
   "cell_type": "code",
   "execution_count": 60,
   "metadata": {},
   "outputs": [],
   "source": [
    "import os\n",
    "import re\n",
    "from bs4 import BeautifulSoup, Tag\n",
    "\n",
    "cwd = os.getcwd()\n",
    "html_doc = 'weather.html'\n",
    "\n",
    "# Parse the HTML File\n",
    "#Loading\n",
    "with open(os.path.join(cwd, html_doc), 'r') as f:\n",
    "    html_text = f.read()\n",
    "soup = BeautifulSoup(markup=html_text, features='html.parser')"
   ]
  },
  {
   "cell_type": "code",
   "execution_count": 61,
   "metadata": {},
   "outputs": [
    {
     "name": "stdout",
     "output_type": "stream",
     "text": [
      "[('Monday', 25.0, 'Sunny'), ('Tuesday', 22.0, 'Cloudy'), ('Wednesday', 18.0, 'Rainy'), ('Thursday', 20.0, 'Partly Cloudy'), ('Friday', 30.0, 'Sunny')]\n"
     ]
    }
   ],
   "source": [
    "# extract the weather forecast details\n",
    "\n",
    "datas = []\n",
    "for tr in soup.tbody.children:\n",
    "    if isinstance(tr, Tag):\n",
    "        day, temp, condition = (list(tr.stripped_strings))\n",
    "        datas.append((day, float(re.search(r'\\d+', temp).group()), condition))\n",
    "\n",
    "print(datas)"
   ]
  },
  {
   "cell_type": "code",
   "execution_count": 62,
   "metadata": {},
   "outputs": [
    {
     "name": "stdout",
     "output_type": "stream",
     "text": [
      "Monday: 25.0, Sunny\n",
      "Tuesday: 22.0, Cloudy\n",
      "Wednesday: 18.0, Rainy\n",
      "Thursday: 20.0, Partly Cloudy\n",
      "Friday: 30.0, Sunny\n"
     ]
    }
   ],
   "source": [
    "# Print the day, temperature, and condition for each entry in the forecast.\n",
    "\n",
    "for data in datas:\n",
    "    print(f'{data[0]}: {data[1]}, {data[2]}')"
   ]
  },
  {
   "cell_type": "code",
   "execution_count": 63,
   "metadata": {},
   "outputs": [
    {
     "name": "stdout",
     "output_type": "stream",
     "text": [
      "Highest temperatute is 30.0°C and this day is Friday\n"
     ]
    }
   ],
   "source": [
    "# The highest temperature.\n",
    "highest_temp = float('-inf')\n",
    "highest = None\n",
    "for data in datas:\n",
    "    if data[1] > highest_temp:\n",
    "        highest = data\n",
    "print(f\"Highest temperatute is {highest[1]}\\u00B0C and this day is {data[0]}\")\n"
   ]
  },
  {
   "cell_type": "code",
   "execution_count": 64,
   "metadata": {},
   "outputs": [
    {
     "name": "stdout",
     "output_type": "stream",
     "text": [
      "Sunny days:\n",
      "Monday: 25.0°C\n",
      "Friday: 30.0°C\n"
     ]
    }
   ],
   "source": [
    "# The \"Sunny\" condition.\n",
    "print(\"Sunny days:\")\n",
    "for data in datas:\n",
    "    if data[2].lower() == \"sunny\":\n",
    "        print(f'{data[0]}: {data[1]}\\u00B0C')\n",
    "    "
   ]
  },
  {
   "cell_type": "code",
   "execution_count": 65,
   "metadata": {},
   "outputs": [
    {
     "name": "stdout",
     "output_type": "stream",
     "text": [
      "Weely average temperature: 23.0°C\n"
     ]
    }
   ],
   "source": [
    "# Compute and print the average temperature for the week.\n",
    "ave_temp = sum(data[1] for data in datas)/len(datas)\n",
    "print(f\"Weely average temperature: {ave_temp}\\u00B0C\")"
   ]
  }
 ],
 "metadata": {
  "kernelspec": {
   "display_name": "venv",
   "language": "python",
   "name": "python3"
  },
  "language_info": {
   "codemirror_mode": {
    "name": "ipython",
    "version": 3
   },
   "file_extension": ".py",
   "mimetype": "text/x-python",
   "name": "python",
   "nbconvert_exporter": "python",
   "pygments_lexer": "ipython3",
   "version": "3.12.1"
  }
 },
 "nbformat": 4,
 "nbformat_minor": 2
}
