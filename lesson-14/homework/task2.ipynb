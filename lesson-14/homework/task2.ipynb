{
 "cells": [
  {
   "cell_type": "code",
   "execution_count": 42,
   "metadata": {},
   "outputs": [],
   "source": [
    "import requests\n",
    "import sqlite3\n",
    "import os\n",
    "import csv\n",
    "\n",
    "from bs4 import BeautifulSoup, Tag\n",
    "\n",
    "url = r\"https://realpython.github.io/fake-jobs/\"\n",
    "database_name = 'database.db'\n",
    "table_name = 'Jobs'\n",
    "cwd = os.getcwd()"
   ]
  },
  {
   "cell_type": "code",
   "execution_count": 43,
   "metadata": {},
   "outputs": [],
   "source": [
    "# connect database\n",
    "def connect_database(database_name):\n",
    "        \n",
    "    with sqlite3.connect(database_name) as con:\n",
    "        cur = con.cursor()\n",
    "\n",
    "        # crete table if not exist\n",
    "        cur.execute(\"\"\"\n",
    "            CREATE TABLE IF NOT EXISTS Jobs (\n",
    "                    job_id INTEGER PRIMARY KEY AUTOINCREMENT,\n",
    "                    job_title TEXT,\n",
    "                    comp_name TEXT,\n",
    "                    loc TEXT,\n",
    "                    job_desc TEXT,\n",
    "                    app_link TEXT,\n",
    "                    added_time DATE\n",
    "                    )\n",
    "            \"\"\")\n",
    "\n",
    "        # save changes\n",
    "        con.commit()"
   ]
  },
  {
   "cell_type": "code",
   "execution_count": 44,
   "metadata": {},
   "outputs": [],
   "source": [
    "# get html content and crete BeautifulSoup object\n",
    "\n",
    "def get_url_as_bs(url: str) -> BeautifulSoup:\n",
    "    req = requests.get(url)\n",
    "    if req:\n",
    "        html_text = req.text\n",
    "        return BeautifulSoup(html_text)"
   ]
  },
  {
   "cell_type": "code",
   "execution_count": 45,
   "metadata": {},
   "outputs": [],
   "source": [
    "# Extract job deskription from url\n",
    "def get_job_description(url: str) -> str:\n",
    "    soup = get_url_as_bs(url)\n",
    "    return str(soup.find(\"p\", id=\"\", class_=\"\").string).strip()"
   ]
  },
  {
   "cell_type": "code",
   "execution_count": 46,
   "metadata": {},
   "outputs": [],
   "source": [
    "class Job():\n",
    "    def __init__(self, job_title, comp_name, loc, job_desc, app_link, added_time):\n",
    "        self.job_title = job_title\n",
    "        self.comp_name = comp_name\n",
    "        self.loc = loc\n",
    "        self.job_desc = job_desc\n",
    "        self.app_link = app_link\n",
    "        self.added_time = added_time\n",
    "\n",
    "    \n",
    "    def as_tuple(self):\n",
    "        return (self.job_title, self.comp_name, self.loc, self.job_desc, self.app_link, self.added_time)\n",
    "\n",
    "    @classmethod\n",
    "    def from_tuple(cls, *values) -> \"Job\":\n",
    "        return cls(values[0], values[1], values[2], values[3], values[4], values[5])"
   ]
  },
  {
   "cell_type": "code",
   "execution_count": 47,
   "metadata": {},
   "outputs": [],
   "source": [
    "class JobManager():\n",
    "    def __init__(self, jobs: list = None) -> None:\n",
    "        self.jobs = jobs if jobs else []\n",
    "    \n",
    "    def add_job(self, job: Job):\n",
    "        self.jobs.append(job)\n",
    "    \n",
    "    def get_all_jobs(self):\n",
    "        return self.jobs\n",
    "\n",
    "    def is_include(self, job: Job) -> bool:\n",
    "        return any(\n",
    "            job.job_title == existing_job.job_title and\n",
    "            job.comp_name == existing_job.comp_name and\n",
    "            job.loc == existing_job.loc\n",
    "            for existing_job in self.jobs\n",
    "        )\n",
    "            "
   ]
  },
  {
   "cell_type": "code",
   "execution_count": 48,
   "metadata": {},
   "outputs": [],
   "source": [
    "# write to database\n",
    "def write2database(database_name: str, table_name: str, data: \"JobManager\") -> None:\n",
    "    with sqlite3.connect(database_name) as con:\n",
    "        cur = con.cursor()\n",
    "\n",
    "        # Validate table name\n",
    "        if not table_name.isidentifier():\n",
    "            raise ValueError(\"Invalid table name.\")\n",
    "\n",
    "        # Insert data into the database\n",
    "        for job in data.get_all_jobs():\n",
    "            cur.execute(f\"\"\"\n",
    "                INSERT INTO {table_name} (job_title, comp_name, loc, job_desc, app_link, added_time)\n",
    "                VALUES (?, ?, ?, ?, ?, ?)\n",
    "                \"\"\", job.as_tuple())\n",
    "\n",
    "        # Save changes\n",
    "        con.commit()\n"
   ]
  },
  {
   "cell_type": "code",
   "execution_count": 49,
   "metadata": {},
   "outputs": [],
   "source": [
    "def load_from_database(database_name, table_name) -> JobManager:\n",
    "    jobs = []\n",
    "    with sqlite3.connect(database_name) as con:\n",
    "        cur = con.cursor()\n",
    "        datas = cur.execute(f\"\"\"\n",
    "            SELECT job_title, comp_name, loc, job_desc, app_link, added_time from {table_name}\n",
    "            \"\"\")\n",
    "        for data in datas:\n",
    "            job = Job.from_tuple(*data)\n",
    "            jobs.append(job)\n",
    "    return jobs\n",
    "    "
   ]
  },
  {
   "cell_type": "code",
   "execution_count": 50,
   "metadata": {},
   "outputs": [],
   "source": [
    "# Write jobs to a CSV file\n",
    "\n",
    "def write_as_csv(job_manager: JobManager, filename: str = \"jobs.csv\"):\n",
    "    # Define the CSV header\n",
    "    header = [\"Job Title\", \"Company Name\", \"Location\", \"Job Description\", \"Application Link\", \"Added Time\"]\n",
    "\n",
    "    try:\n",
    "        with open(os.path.join(cwd, filename), mode=\"w\", newline=\"\", encoding=\"utf-8\") as csvfile:\n",
    "            writer = csv.writer(csvfile)\n",
    "            \n",
    "            # Write the header\n",
    "            writer.writerow(header)\n",
    "            \n",
    "            # Write job data\n",
    "            for job in job_manager.get_all_jobs():\n",
    "                writer.writerow(job.as_tuple())\n",
    "\n",
    "        print(f\"Jobs successfully written to {filename}\")\n",
    "    except IOError as e:\n",
    "        print(f\"Error writing to CSV file: {e}\")"
   ]
  },
  {
   "cell_type": "code",
   "execution_count": 51,
   "metadata": {},
   "outputs": [
    {
     "name": "stdout",
     "output_type": "stream",
     "text": [
      "Jobs successfully written to jobs.csv\n"
     ]
    }
   ],
   "source": [
    "# connect database\n",
    "connect_database(database_name)\n",
    "\n",
    "# retrive data from database as list\n",
    "jobs = load_from_database(database_name, table_name)\n",
    "\n",
    "# Create job manager\n",
    "job_manager = JobManager(jobs)\n",
    "\n",
    "# all available jobs\n",
    "soup = get_url_as_bs(url)\n",
    "cards_body = soup.find(\"div\", id = \"ResultsContainer\")\n",
    "cards_iterator = cards_body.children\n",
    "for card in cards_iterator:\n",
    "    if isinstance(card, Tag):\n",
    "        job_title = str(card.find(\"h2\", class_=\"title is-5\").string).strip()\n",
    "        comp_name = str(card.find(\"h3\", class_=\"subtitle is-6 company\").string).strip()\n",
    "        loc = str(card.find(\"p\", class_=\"location\").string).strip()\n",
    "        added_time = str(card.find(\"time\").string).strip()\n",
    "        app_link = card.find(\"a\", string=\"Apply\")['href']\n",
    "        job_desc = get_job_description(app_link)\n",
    "        job = Job(job_title, comp_name, loc, job_desc, app_link, added_time)\n",
    "        if not job_manager.is_include(job):\n",
    "            job_manager.add_job(job)\n",
    "\n",
    "\n",
    "write2database(database_name, table_name, job_manager)\n",
    "write_as_csv(job_manager)"
   ]
  },
  {
   "cell_type": "code",
   "execution_count": null,
   "metadata": {},
   "outputs": [],
   "source": []
  }
 ],
 "metadata": {
  "kernelspec": {
   "display_name": "venv",
   "language": "python",
   "name": "python3"
  },
  "language_info": {
   "codemirror_mode": {
    "name": "ipython",
    "version": 3
   },
   "file_extension": ".py",
   "mimetype": "text/x-python",
   "name": "python",
   "nbconvert_exporter": "python",
   "pygments_lexer": "ipython3",
   "version": "3.12.1"
  }
 },
 "nbformat": 4,
 "nbformat_minor": 2
}
