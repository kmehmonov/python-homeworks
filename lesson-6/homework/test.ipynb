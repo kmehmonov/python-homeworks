{
 "cells": [
  {
   "cell_type": "code",
   "execution_count": null,
   "metadata": {},
   "outputs": [],
   "source": []
  },
  {
   "cell_type": "code",
   "execution_count": 32,
   "metadata": {},
   "outputs": [
    {
     "name": "stdout",
     "output_type": "stream",
     "text": [
      "1\n",
      "2\n",
      "3\n"
     ]
    }
   ],
   "source": [
    "def simple_generator():\n",
    "    yield 1\n",
    "    yield 2\n",
    "    yield 3\n",
    "\n",
    "val = simple_generator()\n",
    "for i in val:\n",
    "    print(i)\n"
   ]
  },
  {
   "cell_type": "code",
   "execution_count": 64,
   "metadata": {},
   "outputs": [
    {
     "name": "stdout",
     "output_type": "stream",
     "text": [
      "val 1\n",
      "val2 1\n",
      "2\n"
     ]
    }
   ],
   "source": [
    "def simple_generator():\n",
    "    yield 1\n",
    "    yield 2\n",
    "    yield 3\n",
    "\n",
    "val = simple_generator()\n",
    "val2 = simple_generator()\n",
    "print(\"val\", next(val))\n",
    "print(\"val2\", next(val2))\n",
    "val3 = val\n",
    "print(next(val3))\n"
   ]
  },
  {
   "cell_type": "code",
   "execution_count": 38,
   "metadata": {},
   "outputs": [
    {
     "name": "stdout",
     "output_type": "stream",
     "text": [
      "0\n",
      "1\n",
      "2\n",
      "3\n",
      "4\n",
      "5\n"
     ]
    }
   ],
   "source": [
    "def inf_counter(start = 0):\n",
    "\n",
    "    while True:\n",
    "        yield start\n",
    "        start += 1\n",
    "\n",
    "\n",
    "counter = inf_counter()\n",
    "\n",
    "for i in counter:\n",
    "    print(i)\n",
    "    if i == 5:\n",
    "        break\n"
   ]
  },
  {
   "cell_type": "code",
   "execution_count": 41,
   "metadata": {},
   "outputs": [
    {
     "name": "stdout",
     "output_type": "stream",
     "text": [
      "1\n",
      "1\n",
      "2\n",
      "3\n",
      "5\n",
      "8\n",
      "[1, 1, 2, 3, 5, 8]\n"
     ]
    }
   ],
   "source": [
    "def fib(limit):\n",
    "    a, b = 0, 1\n",
    "    while b <= limit:\n",
    "        yield b\n",
    "        a, b = b, a+b\n",
    "\n",
    "for i in fib(10):\n",
    "    print(i)\n",
    "\n",
    "fiblist = list(fib(10))\n",
    "print(fiblist)"
   ]
  },
  {
   "cell_type": "code",
   "execution_count": 58,
   "metadata": {},
   "outputs": [
    {
     "name": "stdout",
     "output_type": "stream",
     "text": [
      "0\n",
      "2\n",
      "4\n",
      "6\n",
      "8\n",
      "0\n",
      "2\n",
      "4\n",
      "6\n",
      "8\n"
     ]
    },
    {
     "data": {
      "text/plain": [
       "generator"
      ]
     },
     "execution_count": 58,
     "metadata": {},
     "output_type": "execute_result"
    }
   ],
   "source": [
    "def customrange(start, stop = None, step = 1 ):\n",
    "    if stop is None:\n",
    "        stop = start\n",
    "        start = 0\n",
    "\n",
    "    num = start\n",
    "    while num < stop:\n",
    "        yield num\n",
    "        num += step\n",
    "\n",
    "for i in customrange(0, 10, 2):\n",
    "    print(i)\n",
    "\n",
    "for i in customrange(0, 10, 2):\n",
    "    print(i)\n"
   ]
  },
  {
   "cell_type": "code",
   "execution_count": 118,
   "metadata": {},
   "outputs": [
    {
     "name": "stdout",
     "output_type": "stream",
     "text": [
      "It is a decorator\n",
      "hello-1\n"
     ]
    }
   ],
   "source": [
    "def decorator(func):\n",
    "    def wrapper():\n",
    "        print(\"It is a decorator\")\n",
    "        func()\n",
    "    return wrapper\n",
    "\n",
    "@decorator\n",
    "def print_hello1():\n",
    "    print(\"hello-1\")\n",
    "\n",
    "\n",
    "@decorator\n",
    "def print_hello2():\n",
    "    print(\"hello-2\")\n",
    "\n",
    "print_hello1()"
   ]
  },
  {
   "cell_type": "code",
   "execution_count": 143,
   "metadata": {},
   "outputs": [
    {
     "name": "stdout",
     "output_type": "stream",
     "text": [
      "hello-1\n",
      "hello-1\n"
     ]
    }
   ],
   "source": [
    "\n",
    "\n",
    "def repeater(n):\n",
    "    def decorator(func):\n",
    "        def wrapper():\n",
    "            for _ in range(n):\n",
    "                func()\n",
    "        return wrapper\n",
    "    return decorator\n",
    "    \n",
    "\n",
    "\n",
    "\n",
    "\n",
    "\n",
    "@repeater(2)\n",
    "def print_hello1():\n",
    "    print(\"hello-1\")\n",
    "\n",
    "\n",
    "print_hello1()\n",
    "\n"
   ]
  },
  {
   "cell_type": "code",
   "execution_count": 169,
   "metadata": {},
   "outputs": [
    {
     "name": "stdout",
     "output_type": "stream",
     "text": [
      "8\n",
      "8\n"
     ]
    }
   ],
   "source": [
    "f = open(\"textfile.txt\")\n",
    "f.read()\n",
    "print(f.tell())\n",
    "f.read()\n",
    "print(f.tell())\n"
   ]
  },
  {
   "cell_type": "code",
   "execution_count": 16,
   "metadata": {},
   "outputs": [
    {
     "data": {
      "text/plain": [
       "4"
      ]
     },
     "execution_count": 16,
     "metadata": {},
     "output_type": "execute_result"
    }
   ],
   "source": [
    "def id_builder():   \n",
    "    with open(file=r\"D:\\hobby\\maab_academy\\python-homeworks\\employee.txt\", mode=\"r\") as f:\n",
    "        lastID = int(f.readlines()[-1].strip().split(\", \")[0])\n",
    "    return lastID + 1\n",
    "\n",
    "id_builder()"
   ]
  }
 ],
 "metadata": {
  "kernelspec": {
   "display_name": "venv",
   "language": "python",
   "name": "python3"
  },
  "language_info": {
   "codemirror_mode": {
    "name": "ipython",
    "version": 3
   },
   "file_extension": ".py",
   "mimetype": "text/x-python",
   "name": "python",
   "nbconvert_exporter": "python",
   "pygments_lexer": "ipython3",
   "version": "3.12.1"
  }
 },
 "nbformat": 4,
 "nbformat_minor": 2
}
