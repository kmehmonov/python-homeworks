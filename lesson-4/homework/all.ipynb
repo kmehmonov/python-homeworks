{
 "cells": [
  {
   "cell_type": "code",
   "execution_count": 25,
   "metadata": {},
   "outputs": [
    {
     "name": "stdout",
     "output_type": "stream",
     "text": [
      "1-usul [1, 1, 3, 4]\n",
      "2-usul [1, 1, 3, 4]\n"
     ]
    }
   ],
   "source": [
    "\n",
    "\n",
    "# 1\n",
    "\n",
    "list1 = [1, 1, 2]\n",
    "list2 = [2, 3, 4]\n",
    "\n",
    "\n",
    "# 1- usul\n",
    "newlist = [i for i in list1 if i not in list2]\n",
    "newlist.extend(j for j in list2 if  j not in list1)\n",
    "print(\"1-usul\", newlist)\n",
    "\n",
    "# 2-usul\n",
    "commonelements = set(list1).intersection(set(list2))\n",
    "newlist = [i for i in list1 if i not in commonelements]\n",
    "newlist.extend(j for j in list2 if  j not in commonelements)\n",
    "print(\"2-usul\", newlist)\n",
    "\n"
   ]
  },
  {
   "cell_type": "code",
   "execution_count": 35,
   "metadata": {},
   "outputs": [
    {
     "name": "stdout",
     "output_type": "stream",
     "text": [
      "1-usul\n",
      "1\n",
      "4\n",
      "9\n",
      "16\n",
      "\n",
      "2-usul\n",
      "16\n",
      "9\n",
      "4\n",
      "1\n"
     ]
    }
   ],
   "source": [
    "# 2\n",
    "n = 5\n",
    "\n",
    "# 1-usul\n",
    "print(\"1-usul\")\n",
    "for i in range(1, n):\n",
    "    print(i**2)\n",
    "\n",
    "# 2-usul\n",
    "print(\"\\n2-usul\")\n",
    "while n>1:\n",
    "    n -= 1\n",
    "    print(n**2)"
   ]
  },
  {
   "cell_type": "code",
   "execution_count": 40,
   "metadata": {},
   "outputs": [
    {
     "data": {
      "text/plain": [
       "'abc_abcd_abcdeab_cdef_abcdefg'"
      ]
     },
     "execution_count": 40,
     "metadata": {},
     "output_type": "execute_result"
    }
   ],
   "source": [
    "# 3\n",
    "\n",
    "txt = \"abcabcdabcdeabcdefabcdefg\"\n",
    "exceptions = {\"a\", \"e\", \"u\", \"i\", \"o\", \"A\", \"E\", \"U\", \"I\", \"O\"}\n",
    "\n",
    "newlist = []\n",
    "lastindex = len(txt)-1\n",
    "k = 1\n",
    "for index, char in enumerate(txt):\n",
    "    if k>2 and char not in exceptions and index != lastindex:\n",
    "        newlist.append(char+\"_\")\n",
    "        exceptions.add(char)\n",
    "        k = 1\n",
    "    else:\n",
    "        newlist.append(char)\n",
    "        k += 1\n",
    "newtxt = \"\".join(newlist)\n",
    "newtxt\n",
    "\n",
    "\n"
   ]
  },
  {
   "cell_type": "code",
   "execution_count": null,
   "metadata": {},
   "outputs": [],
   "source": []
  }
 ],
 "metadata": {
  "kernelspec": {
   "display_name": "venv",
   "language": "python",
   "name": "python3"
  },
  "language_info": {
   "codemirror_mode": {
    "name": "ipython",
    "version": 3
   },
   "file_extension": ".py",
   "mimetype": "text/x-python",
   "name": "python",
   "nbconvert_exporter": "python",
   "pygments_lexer": "ipython3",
   "version": "3.12.1"
  }
 },
 "nbformat": 4,
 "nbformat_minor": 2
}
