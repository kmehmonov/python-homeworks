{
 "cells": [
  {
   "cell_type": "code",
   "execution_count": 6,
   "metadata": {},
   "outputs": [
    {
     "name": "stdout",
     "output_type": "stream",
     "text": [
      "Database created and data inserted.\n"
     ]
    }
   ],
   "source": [
    "import sqlite3\n",
    "\n",
    "# Create a new SQLite database (roster.db) and connect to it\n",
    "with sqlite3.connect(\"library.db\") as con:\n",
    "    cur = con.cursor()\n",
    "\n",
    "    # Create the Books table\n",
    "    cur.execute(\"\"\"\n",
    "        CREATE TABLE IF NOT EXISTS Books (\n",
    "        Title TEXT,\n",
    "        Author TEXT,\n",
    "        Year_Published INTEGER,\n",
    "        Genre TEXT\n",
    "        )\n",
    "    \"\"\")\n",
    "\n",
    "    # Insert the provided data\n",
    "    cur.executemany(\"\"\"\n",
    "        INSERT INTO Books (Title, Author, Year_Published, Genre)\n",
    "        VALUES (?, ?, ?, ?)\n",
    "    \"\"\", [(\"To Kill a Mockingbird\", \"Harper Lee\", 1960, \"Fiction\"),\n",
    "        (\"1984\", \"George Orwell\", 1949, \"Dystopian\"),\n",
    "        (\"The Great Gatsby\", \"F. Scott Fitzgerald\",\t1925, \"Classic\")]\n",
    "    )\n",
    "    con.commit()\n",
    "    print(\"Database created and data inserted.\")\n"
   ]
  },
  {
   "cell_type": "code",
   "execution_count": 8,
   "metadata": {},
   "outputs": [
    {
     "name": "stdout",
     "output_type": "stream",
     "text": [
      "Year_Published updated successfully.\n"
     ]
    }
   ],
   "source": [
    "with sqlite3.connect(\"library.db\") as con:\n",
    "    cur = con.cursor()\n",
    "\n",
    "    # Update date\n",
    "    cur.execute(\"\"\"\n",
    "        UPDATE Books \n",
    "        SET Year_Published = 1950\n",
    "        WHERE Year_Published = 1984\n",
    "    \"\"\")\n",
    "\n",
    "    # Commit the changes\n",
    "    con.commit()\n",
    "    print(\"Year_Published updated successfully.\")"
   ]
  },
  {
   "cell_type": "code",
   "execution_count": 9,
   "metadata": {},
   "outputs": [
    {
     "name": "stdout",
     "output_type": "stream",
     "text": [
      "('1984', 'George Orwell')\n",
      "('1984', 'George Orwell')\n"
     ]
    }
   ],
   "source": [
    "with sqlite3.connect(\"library.db\") as con:\n",
    "    cur = con.cursor()\n",
    "\n",
    "    # Retrieve and display the Title and Author of all books where the Genre is Dystopian\n",
    "    cur.execute(\"\"\"\n",
    "        SELECT Title, Author\n",
    "        FROM Books\n",
    "        WHERE Genre = 'Dystopian'\n",
    "    \"\"\")\n",
    "\n",
    "    rows = cur.fetchall()\n",
    "    for row in rows:\n",
    "        print(row)\n"
   ]
  },
  {
   "cell_type": "code",
   "execution_count": 10,
   "metadata": {},
   "outputs": [
    {
     "name": "stdout",
     "output_type": "stream",
     "text": [
      "Deleted successfully.\n"
     ]
    }
   ],
   "source": [
    "with sqlite3.connect(\"library.db\") as con:\n",
    "    cur = con.cursor()\n",
    "\n",
    "    # Remove all books published before the year 1950 from the table\n",
    "    cur.execute(\"\"\"\n",
    "        DELETE FROM Books\n",
    "        WHERE Year_Published < 1950\n",
    "    \"\"\")\n",
    "\n",
    "    # Commit the changes\n",
    "    con.commit()\n",
    "    print(\"Deleted successfully.\")"
   ]
  },
  {
   "cell_type": "code",
   "execution_count": 13,
   "metadata": {},
   "outputs": [
    {
     "name": "stdout",
     "output_type": "stream",
     "text": [
      "Updated successfully.\n"
     ]
    }
   ],
   "source": [
    "with sqlite3.connect(\"library.db\") as con:\n",
    "    cur = con.cursor()\n",
    "\n",
    "    # Add a new column called Rating to the Books table and update the data\n",
    "    cur.execute(\"ALTER TABLE Books ADD COLUMN Rating TEXT\")\n",
    "\n",
    "    # Update table\n",
    "    rating_data = {\n",
    "        \"To Kill a Mockingbird\" : \"4.8\",\n",
    "        \"1984\": \"4.7\",\n",
    "        \"The Great Gatsby\": \"4.5\"\n",
    "    }\n",
    "\n",
    "    for title, rating in rating_data.items():\n",
    "        cur.execute(\"\"\"\n",
    "            UPDATE Books\n",
    "            SET Rating = ?\n",
    "            WHERE Title = ?\n",
    "        \"\"\", (rating, title)\n",
    "        )\n",
    "\n",
    "    # Commit the changes\n",
    "    con.commit()\n",
    "    print(\"Updated successfully.\")"
   ]
  },
  {
   "cell_type": "code",
   "execution_count": 14,
   "metadata": {},
   "outputs": [
    {
     "name": "stdout",
     "output_type": "stream",
     "text": [
      "('To Kill a Mockingbird', 'Harper Lee', 1960, 'Fiction', '4.8')\n",
      "('To Kill a Mockingbird', 'Harper Lee', 1960, 'Fiction', '4.8')\n"
     ]
    }
   ],
   "source": [
    "with sqlite3.connect(\"library.db\") as con:\n",
    "    cur = con.cursor()\n",
    "\n",
    "    # Retrieve all books sorted by their Year_Published in ascending order\n",
    "\n",
    "    cur.execute(\"\"\"\n",
    "        SELECT * FROM Books\n",
    "        ORDER BY Year_Published asc\n",
    "    \"\"\")\n",
    "\n",
    "    data = cur.fetchall()\n",
    "    for dat in data:\n",
    "        print(dat)"
   ]
  }
 ],
 "metadata": {
  "kernelspec": {
   "display_name": "venv",
   "language": "python",
   "name": "python3"
  },
  "language_info": {
   "codemirror_mode": {
    "name": "ipython",
    "version": 3
   },
   "file_extension": ".py",
   "mimetype": "text/x-python",
   "name": "python",
   "nbconvert_exporter": "python",
   "pygments_lexer": "ipython3",
   "version": "3.12.1"
  }
 },
 "nbformat": 4,
 "nbformat_minor": 2
}
