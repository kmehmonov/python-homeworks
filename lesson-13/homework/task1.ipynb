{
 "cells": [
  {
   "cell_type": "code",
   "execution_count": 1,
   "metadata": {},
   "outputs": [
    {
     "name": "stdout",
     "output_type": "stream",
     "text": [
      "Database created and data inserted.\n"
     ]
    }
   ],
   "source": [
    "import sqlite3\n",
    "\n",
    "# Create a new SQLite database (roster.db) and connect to it\n",
    "with sqlite3.connect(\"roster.db\") as con:\n",
    "    cur = con.cursor()\n",
    "\n",
    "    # Create the Roster table\n",
    "    cur.execute(\"\"\"\n",
    "        CREATE TABLE IF NOT EXISTS Roster (\n",
    "            Name TEXT,\n",
    "            Species TEXT,\n",
    "            Age INTEGER\n",
    "        )\n",
    "    \"\"\")\n",
    "\n",
    "    # Insert the provided data\n",
    "    cur.executemany(\"\"\"\n",
    "        INSERT INTO Roster (Name, Species, Age)\n",
    "        VALUES (?, ?, ?)\n",
    "    \"\"\", [\n",
    "        (\"Benjamin Sisko\", \"Human\", 40),\n",
    "        (\"Jadzia Dax\", \"Trill\", 300),\n",
    "        (\"Kira Nerys\", \"Bajoran\", 29)\n",
    "    ])\n",
    "\n",
    "    # Commit the changes\n",
    "    con.commit()\n",
    "    print(\"Database created and data inserted.\")\n"
   ]
  },
  {
   "cell_type": "code",
   "execution_count": 2,
   "metadata": {},
   "outputs": [
    {
     "name": "stdout",
     "output_type": "stream",
     "text": [
      "Name updated successfully.\n"
     ]
    }
   ],
   "source": [
    "with sqlite3.connect(\"roster.db\") as con:\n",
    "    cur = con.cursor()\n",
    "\n",
    "    # Update the Name of Jadzia Dax to Ezri Dax\n",
    "    cur.execute(\"\"\"\n",
    "        UPDATE Roster\n",
    "        SET Name = 'Ezri Dax'\n",
    "        WHERE Name = 'Jadzia Dax'\n",
    "    \"\"\")\n",
    "\n",
    "    # Commit the changes\n",
    "    con.commit()\n",
    "    print(\"Name updated successfully.\")\n"
   ]
  },
  {
   "cell_type": "code",
   "execution_count": 3,
   "metadata": {},
   "outputs": [
    {
     "name": "stdout",
     "output_type": "stream",
     "text": [
      "('Kira Nerys', 29)\n"
     ]
    }
   ],
   "source": [
    "with sqlite3.connect(\"roster.db\") as con:\n",
    "    cur = con.cursor()\n",
    "\n",
    "    # Retrieve and display Name and Age of all characters where the Species is Bajoran\n",
    "    cur.execute(\"\"\"\n",
    "        SELECT Name, Age\n",
    "        FROM Roster\n",
    "        WHERE Species = 'Bajoran'\n",
    "    \"\"\")\n",
    "\n",
    "    rows = cur.fetchall()\n",
    "    for row in rows:\n",
    "        print(row)\n"
   ]
  },
  {
   "cell_type": "code",
   "execution_count": 4,
   "metadata": {},
   "outputs": [
    {
     "name": "stdout",
     "output_type": "stream",
     "text": [
      "Characters aged over 100 have been removed.\n"
     ]
    }
   ],
   "source": [
    "with sqlite3.connect(\"roster.db\") as con:\n",
    "    cur = con.cursor()\n",
    "\n",
    "    # Remove all characters aged over 100 years\n",
    "    cur.execute(\"\"\"\n",
    "        DELETE FROM Roster\n",
    "        WHERE Age > 100\n",
    "    \"\"\")\n",
    "\n",
    "    # Commit the changes\n",
    "    con.commit()\n",
    "    print(\"Characters aged over 100 have been removed.\")\n"
   ]
  },
  {
   "cell_type": "code",
   "execution_count": 5,
   "metadata": {},
   "outputs": [
    {
     "name": "stdout",
     "output_type": "stream",
     "text": [
      "Rank column added and data updated.\n"
     ]
    }
   ],
   "source": [
    "with sqlite3.connect(\"roster.db\") as con:\n",
    "    cur = con.cursor()\n",
    "\n",
    "    # Add the new column 'Rank'\n",
    "    cur.execute(\"ALTER TABLE Roster ADD COLUMN Rank TEXT\")\n",
    "\n",
    "    # Update the Rank for each character\n",
    "    rank_data = {\n",
    "        \"Benjamin Sisko\": \"Captain\",\n",
    "        \"Ezri Dax\": \"Lieutenant\",\n",
    "        \"Kira Nerys\": \"Major\"\n",
    "    }\n",
    "\n",
    "    for name, rank in rank_data.items():\n",
    "        cur.execute(\"\"\"\n",
    "            UPDATE Roster\n",
    "            SET Rank = ?\n",
    "            WHERE Name = ?\n",
    "        \"\"\", (rank, name))\n",
    "\n",
    "    # Commit the changes\n",
    "    con.commit()\n",
    "    print(\"Rank column added and data updated.\")\n"
   ]
  },
  {
   "cell_type": "code",
   "execution_count": 6,
   "metadata": {},
   "outputs": [
    {
     "name": "stdout",
     "output_type": "stream",
     "text": [
      "('Benjamin Sisko', 40)\n",
      "('Kira Nerys', 29)\n"
     ]
    }
   ],
   "source": [
    "with sqlite3.connect(\"roster.db\") as con:\n",
    "    cur = con.cursor()\n",
    "\n",
    "    # Retrieve all characters sorted by Age in descending order\n",
    "    cur.execute(\"\"\"\n",
    "        SELECT Name, Age\n",
    "        FROM Roster\n",
    "        ORDER BY Age DESC\n",
    "    \"\"\")\n",
    "\n",
    "    rows = cur.fetchall()\n",
    "    for row in rows:\n",
    "        print(row)\n"
   ]
  }
 ],
 "metadata": {
  "kernelspec": {
   "display_name": "venv",
   "language": "python",
   "name": "python3"
  },
  "language_info": {
   "codemirror_mode": {
    "name": "ipython",
    "version": 3
   },
   "file_extension": ".py",
   "mimetype": "text/x-python",
   "name": "python",
   "nbconvert_exporter": "python",
   "pygments_lexer": "ipython3",
   "version": "3.12.1"
  }
 },
 "nbformat": 4,
 "nbformat_minor": 2
}
